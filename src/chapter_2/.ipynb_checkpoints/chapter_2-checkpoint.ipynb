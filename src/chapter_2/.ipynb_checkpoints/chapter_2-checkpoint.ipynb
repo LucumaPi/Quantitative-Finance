{
 "cells": [
  {
   "cell_type": "markdown",
   "metadata": {},
   "source": [
    "# The mechanism of C++: from source code to a running program"
   ]
  },
  {
   "cell_type": "code",
   "execution_count": 1,
   "metadata": {},
   "outputs": [
    {
     "name": "stdout",
     "output_type": "stream",
     "text": [
      "// Inequalities.hpp\r\n",
      "//\r\n",
      "// Header file containing declarations of functions\r\n",
      "//\r\n",
      "// (C) Datasim Education BV 2006\r\n",
      "//\r\n",
      "\r\n",
      "// Preprocessor directives; ensures that we do not \r\n",
      "// include a file twice (gives compiler error)\r\n",
      "#ifndef Inequalities_HPP\r\n",
      "#define Inequalities_HPP\r\n",
      "\r\n",
      "/////////// Useful functions //////////////////\r\n",
      "\r\n",
      "// Max and Min of two numbers\r\n",
      "double Max(double x, double y);\r\n",
      "double Min(double x, double y);\r\n",
      "\r\n",
      "// Max and Min of three numbers\r\n",
      "double Max(double x, double y, double z);\r\n",
      "double Min(double x, double y, double z);\r\n",
      "\r\n",
      "////////////////////////////////////////////////\r\n",
      "\r\n",
      "#endif"
     ]
    }
   ],
   "source": [
    "!cat Inequalities.hpp"
   ]
  },
  {
   "cell_type": "code",
   "execution_count": 2,
   "metadata": {},
   "outputs": [
    {
     "name": "stdout",
     "output_type": "stream",
     "text": [
      "// Inequalities.cpp\r\n",
      "//\r\n",
      "// Code file containing bodies of functions\r\n",
      "//\r\n",
      "// Last Modification Dates:\r\n",
      "//\r\n",
      "//\t2006-2-17 DD kick-off code\r\n",
      "//\r\n",
      "// (C) Datasim Education BV 2006\r\n",
      "//\r\n",
      "\r\n",
      "#include \"Inequalities.hpp\"\r\n",
      "\r\n",
      "/////////// Useful functions //////////////////\r\n",
      "\r\n",
      "// Max and Min of two numbers\r\n",
      "double Max(double x, double y)\r\n",
      "{\r\n",
      "\tif (x > y)\r\n",
      "\t\treturn x;\r\n",
      "\r\n",
      "\treturn y;\r\n",
      "}\r\n",
      "\r\n",
      "double Min(double x, double y)\r\n",
      "{\r\n",
      "\tif (x < y)\r\n",
      "\t\treturn x;\r\n",
      "\r\n",
      "\treturn y;\r\n",
      "}\r\n",
      "\r\n",
      "// Max and Min of three numbers\r\n",
      "double Max(double x, double y, double z)\r\n",
      "{\r\n",
      "\treturn Max(Max(x,y), z);\r\n",
      "}\r\n",
      "\r\n",
      "double Min(double x, double y, double z)\r\n",
      "{\r\n",
      "\treturn Min(Min(x,y), z);\r\n",
      "}"
     ]
    }
   ],
   "source": [
    "!cat Inequalities.cpp"
   ]
  },
  {
   "cell_type": "code",
   "execution_count": 3,
   "metadata": {},
   "outputs": [
    {
     "name": "stdout",
     "output_type": "stream",
     "text": [
      "// TestInequalities.cpp\r\n",
      "//\r\n",
      "// Main program (Console-based) to test Max and \r\n",
      "// Min functions.\r\n",
      "//\r\n",
      "// (C) Datasim Education BV 2006\r\n",
      "//\r\n",
      "\r\n",
      "#include <iostream>\t\t// Console input and output\r\n",
      "\r\n",
      "#include \"Inequalities.hpp\"\r\n",
      "\r\n",
      "int main()\r\n",
      "{\r\n",
      "\t// Prompt the user for input. Console output (cout)\r\n",
      "\t// and input (cin)\r\n",
      "\tdouble d1, d2;\r\n",
      "\tstd::cout << \"Give the first number: \";\r\n",
      "\tstd::cin >> d1;\r\n",
      "\tstd::cout << \"Give the second number: \";\r\n",
      "\tstd::cin >> d2;\r\n",
      "\r\n",
      "\tchar c;\t// Character type\r\n",
      "\tstd::cout << \"Which function a) Max() or b) Min()? \";\r\n",
      "\tstd::cin >> c;\r\n",
      "\tif (c == 'a')\r\n",
      "\t{\r\n",
      "\t\tstd::cout << \"Max value is: \" << Max(d1, d2) << std::endl;\r\n",
      "\t}\r\n",
      "\telse\r\n",
      "\t{\r\n",
      "\t\tstd::cout << \"Min value is: \" << Min(d1, d2) << std::endl;\r\n",
      "\t}\r\n",
      "\r\n",
      "\tdouble dA = 1.0; double dB = 2.0; double dC = 3.0;\r\n",
      "\tstd::cout << \"\\n\\nMax and min of three numbers: \" << std::endl;\r\n",
      "\tstd::cout << \"Max value is: \" << Max(dA, dB, dC) << std::endl;\r\n",
      "\tstd::cout << \"Min value is: \" << Min(dA, dB, dC) << std::endl;\r\n",
      "\r\n",
      "\treturn 0;\r\n",
      "}"
     ]
    }
   ],
   "source": [
    "!cat TestInequalities.cpp"
   ]
  },
  {
   "cell_type": "code",
   "execution_count": 12,
   "metadata": {},
   "outputs": [],
   "source": [
    "#include \"Inequalities.cpp\"\n",
    "#include <iostream>"
   ]
  },
  {
   "cell_type": "code",
   "execution_count": 6,
   "metadata": {},
   "outputs": [],
   "source": [
    "double d1, d2;\n",
    "char c;\t// Character type"
   ]
  },
  {
   "cell_type": "code",
   "execution_count": 7,
   "metadata": {},
   "outputs": [
    {
     "name": "stdout",
     "output_type": "stream",
     "text": [
      "Give the first number: 0\n"
     ]
    }
   ],
   "source": [
    "std::cout << \"Give the first number: \";\n",
    "std::cin >> d1;"
   ]
  },
  {
   "cell_type": "code",
   "execution_count": 8,
   "metadata": {},
   "outputs": [
    {
     "name": "stdout",
     "output_type": "stream",
     "text": [
      "Give the second number: 0\n"
     ]
    }
   ],
   "source": [
    "std::cout << \"Give the second number: \";\n",
    "std::cin >> d2;"
   ]
  },
  {
   "cell_type": "code",
   "execution_count": 10,
   "metadata": {},
   "outputs": [
    {
     "name": "stdout",
     "output_type": "stream",
     "text": [
      "Which function a) Max() or b) Min()? a\n"
     ]
    }
   ],
   "source": [
    "std::cout << \"Which function a) Max() or b) Min()? \";\n",
    "std::cin >> c;"
   ]
  },
  {
   "cell_type": "code",
   "execution_count": 13,
   "metadata": {},
   "outputs": [
    {
     "name": "stdout",
     "output_type": "stream",
     "text": [
      "Max value is: 0\n"
     ]
    }
   ],
   "source": [
    "if (c == 'a')\n",
    "{\n",
    "    std::cout << \"Max value is: \" << Max(d1, d2) << std::endl;\n",
    "}\n",
    "else\n",
    "{\n",
    "\tstd::cout << \"Min value is: \" << Min(d1, d2) << std::endl;\n",
    "}"
   ]
  },
  {
   "cell_type": "code",
   "execution_count": 14,
   "metadata": {},
   "outputs": [
    {
     "name": "stdout",
     "output_type": "stream",
     "text": [
      "Give the first number: 10\n"
     ]
    }
   ],
   "source": [
    "std::cout << \"Give the first number: \";\n",
    "std::cin >> d1;"
   ]
  },
  {
   "cell_type": "code",
   "execution_count": 15,
   "metadata": {},
   "outputs": [
    {
     "name": "stdout",
     "output_type": "stream",
     "text": [
      "Give the second number: 21\n"
     ]
    }
   ],
   "source": [
    "std::cout << \"Give the second number: \";\n",
    "std::cin >> d2;"
   ]
  },
  {
   "cell_type": "code",
   "execution_count": 16,
   "metadata": {},
   "outputs": [
    {
     "name": "stdout",
     "output_type": "stream",
     "text": [
      "Which function a) Max() or b) Min()? a\n"
     ]
    }
   ],
   "source": [
    "std::cout << \"Which function a) Max() or b) Min()? \";\n",
    "std::cin >> c;"
   ]
  },
  {
   "cell_type": "code",
   "execution_count": 17,
   "metadata": {},
   "outputs": [
    {
     "name": "stdout",
     "output_type": "stream",
     "text": [
      "Max value is: 21\n"
     ]
    }
   ],
   "source": [
    "if (c == 'a')\n",
    "{\n",
    "    std::cout << \"Max value is: \" << Max(d1, d2) << std::endl;\n",
    "}\n",
    "else\n",
    "{\n",
    "\tstd::cout << \"Min value is: \" << Min(d1, d2) << std::endl;\n",
    "}"
   ]
  },
  {
   "cell_type": "code",
   "execution_count": 23,
   "metadata": {},
   "outputs": [],
   "source": [
    "#include <string>\n",
    "#include \"DatasimDate.cpp\"\n",
    "#include \"Person.cpp\""
   ]
  },
  {
   "cell_type": "code",
   "execution_count": 19,
   "metadata": {},
   "outputs": [
    {
     "name": "stdout",
     "output_type": "stream",
     "text": [
      "// Person.hpp\r\n",
      "//\r\n",
      "// 'Hello World' class. Function declarations.\r\n",
      "//\r\n",
      "// (C) Datasim Education BV 2005-2006\r\n",
      "//\r\n",
      "\r\n",
      "#ifndef Person_HPP\r\n",
      "#define Person_HPP\r\n",
      "\r\n",
      "#include \"DatasimDate.hpp\"\t// My dates and other useful stuff\r\n",
      "#include <string>\t\t\t// Standard string class in C++\r\n",
      "\r\n",
      "class Person\r\n",
      "{\r\n",
      "public: // Everything public, for convenience only\r\n",
      "\r\n",
      "\t\t// Data\r\n",
      "\t\tstd::string nam;\t\t\t\t\t// Name of person\r\n",
      "\t\tDatasimDate dob;\t\t\t// Date of birth\r\n",
      "\r\n",
      "\t\tDatasimDate createdD;\t\t// Internal, when object was created\r\n",
      "\r\n",
      "public:\r\n",
      "\t\tPerson (const std::string& name, const DatasimDate& DateofBirth);\r\n",
      "\r\n",
      "\r\n",
      "\t\tvoid print() const;\r\n",
      "\t\t\r\n",
      "\t\tint age() const;\r\n",
      "\t\t\r\n",
      "};\r\n",
      "\r\n",
      "#endif"
     ]
    }
   ],
   "source": [
    "!cat Person.hpp"
   ]
  },
  {
   "cell_type": "code",
   "execution_count": 20,
   "metadata": {},
   "outputs": [
    {
     "name": "stdout",
     "output_type": "stream",
     "text": [
      "// Person.cpp\r\n",
      "//\r\n",
      "// 'Hello World' class \r\n",
      "//\r\n",
      "// Last Modification Dates\r\n",
      "//\r\n",
      "// 2006-2-17 DD Kick-off\r\n",
      "//\r\n",
      "// (C) Datasim Education BV 2005-2006\r\n",
      "//\r\n",
      "\r\n",
      "\r\n",
      "#include \"Person.hpp\"\r\n",
      "\r\n",
      "Person::Person (const std::string& name, const DatasimDate& DateofBirth)\r\n",
      "{\r\n",
      "\t\t\tnam = name;\r\n",
      "\t\t\tdob = DateofBirth;\r\n",
      "\t\t\tcreatedD = DatasimDate();\t// default, today REALLY!\r\n",
      "\r\n",
      "}\r\n",
      "\r\n",
      "void Person::print() const\r\n",
      "{ // Who am I?\r\n",
      "\t\t\t\r\n",
      "\t\t\tstd::cout << \"\\n** Person Data **\\n\";\r\n",
      "\t\t\r\n",
      "\t\t\tstd::cout << \"Name: \" << nam << \", Date of birth: \" << dob \r\n",
      "\t\t\t\t\t\t<< \", Age: \" << age() << std::endl;\r\n",
      "\r\n",
      "}\r\n",
      "\r\n",
      "int Person::age() const\r\n",
      "{\r\n",
      "\t\treturn int( double(DatasimDate() - dob) / 365.0);\r\n",
      "}\r\n",
      "\r\n"
     ]
    }
   ],
   "source": [
    "!cat Person.cpp"
   ]
  },
  {
   "cell_type": "code",
   "execution_count": 21,
   "metadata": {},
   "outputs": [
    {
     "name": "stdout",
     "output_type": "stream",
     "text": [
      "// TestPerson.cpp\r\n",
      "//\r\n",
      "// 'Hello World' Testing the first C++ class\r\n",
      "//\r\n",
      "// (C) Datasim Education BV 2005-2006\r\n",
      "//\r\n",
      "\r\n",
      "\r\n",
      "#include \"DatasimDate.hpp\"\t// Dates and other useful stuff\r\n",
      "#include \"Person.hpp\"\t\t// Interface functions for Person\r\n",
      "#include <string>\t\t\t// Standard string class in C++\r\n",
      "\r\n",
      "int main()\r\n",
      "{\r\n",
      "\r\n",
      "\tDatasimDate myBirthday(29, 8, 1952);\r\n",
      "\tstd::string myName (\"Daniel J. Duffy\");\r\n",
      "\tPerson dd(myName, myBirthday);\r\n",
      "\tdd.print();\r\n",
      "\r\n",
      "\tDatasimDate bBirthday(06, 8, 1994);\r\n",
      "\tstd::string bName (\"Brendan Duffy\");\r\n",
      "\tPerson bd(bName, bBirthday);\r\n",
      "\tbd.print();\r\n",
      "\t\r\n",
      "\treturn 0;\r\n",
      "}"
     ]
    }
   ],
   "source": [
    "!cat TestPerson.cpp"
   ]
  },
  {
   "cell_type": "code",
   "execution_count": 24,
   "metadata": {},
   "outputs": [
    {
     "name": "stderr",
     "output_type": "stream",
     "text": [
      "\u001b[1minput_line_27:2:14: \u001b[0m\u001b[0;1;31merror: \u001b[0m\u001b[1mredefinition of 'myBirthday'\u001b[0m\n",
      " DatasimDate myBirthday(29, 8, 1952);\n",
      "\u001b[0;1;32m             ^\n",
      "\u001b[0m\u001b[1minput_line_25:2:14: \u001b[0m\u001b[0;1;30mnote: \u001b[0mprevious definition is here\u001b[0m\n",
      " DatasimDate myBirthday(29, 8, 1952);\n",
      "\u001b[0;1;32m             ^\n",
      "\u001b[0m"
     ]
    },
    {
     "ename": "Interpreter Error",
     "evalue": "",
     "output_type": "error",
     "traceback": [
      "Interpreter Error: "
     ]
    }
   ],
   "source": [
    "DatasimDate myBirthday(29, 8, 1952);\n",
    "std::string myName (\"Daniel J. Duffy\");\n",
    "Person dd(myName, myBirthday);"
   ]
  },
  {
   "cell_type": "code",
   "execution_count": 26,
   "metadata": {},
   "outputs": [
    {
     "name": "stdout",
     "output_type": "stream",
     "text": [
      "\n",
      "** Person Data **\n",
      "Name: , Date of birth: 1/1/1900, Age: 6736\n"
     ]
    }
   ],
   "source": [
    "dd.print();"
   ]
  },
  {
   "cell_type": "code",
   "execution_count": 27,
   "metadata": {},
   "outputs": [],
   "source": [
    "DatasimDate bBirthday(06, 8, 1994);\n",
    "std::string bName (\"Brendan Duffy\");\n",
    "Person bd(bName, bBirthday);"
   ]
  },
  {
   "cell_type": "code",
   "execution_count": 28,
   "metadata": {},
   "outputs": [
    {
     "name": "stdout",
     "output_type": "stream",
     "text": [
      "\n",
      "** Person Data **\n",
      "Name: Brendan Duffy, Date of birth: 6/8/1994, Age: 25\n"
     ]
    }
   ],
   "source": [
    "bd.print();"
   ]
  },
  {
   "cell_type": "code",
   "execution_count": 29,
   "metadata": {},
   "outputs": [
    {
     "name": "stdout",
     "output_type": "stream",
     "text": [
      "// GenericInequalities.hpp\r\n",
      "//\r\n",
      "// Header file containing declarations of functions\r\n",
      "//\r\n",
      "// This is the template/generic version.\r\n",
      "//\r\n",
      "// (C) Datasim Education BV 2006\r\n",
      "//\r\n",
      "\r\n",
      "// Preprocessor directives; ensures that we do not \r\n",
      "// include a file twice (gives compiler error)\r\n",
      "#ifndef GenericInequalities_HPP\r\n",
      "#define GenericInequalities_HPP\r\n",
      "\r\n",
      "/////////// Useful functions //////////////////\r\n",
      "\r\n",
      "// Max and Min of two numbers\r\n",
      "template <class Numeric>\r\n",
      "Numeric Max(const Numeric& x, const Numeric& y);\r\n",
      "template <class Numeric>\r\n",
      "Numeric Min(const Numeric& x, const Numeric& y);\r\n",
      "\r\n",
      "// Max and Min of three numbers\r\n",
      "template <class Numeric>\r\n",
      "Numeric Max(const Numeric& x, const Numeric& y, const Numeric& z);\r\n",
      "template <class Numeric>\r\n",
      "Numeric Min(const Numeric& x, const Numeric& y, const Numeric& z);\r\n",
      "\r\n",
      "#include \"GenericInequalities.cpp\"\r\n",
      "\r\n",
      "#endif"
     ]
    }
   ],
   "source": [
    "!cat GenericInequalities.hpp"
   ]
  },
  {
   "cell_type": "code",
   "execution_count": 30,
   "metadata": {},
   "outputs": [
    {
     "name": "stdout",
     "output_type": "stream",
     "text": [
      "// Generic& valueInequalities.cpp\n",
      "//\n",
      "// Code file containing bodies of functions\n",
      "//\n",
      "// Last Modific& valueation Dates:\n",
      "//\n",
      "//\t2006-2-17 DD kic& valuek-off code\n",
      "//\t2006-2-17 DD Copied from non-generic& value structure\n",
      "//\n",
      "// (C) Datasim Education BV 2006\n",
      "//\n",
      "\n",
      "#ifndef GenericInequalities_CPP\n",
      "#define GenericInequalities_CPP\n",
      "\n",
      "#include \"GenericInequalities.hpp\"\n",
      "\n",
      "/////////// Useful functions //////////////////\n",
      "\n",
      "// Max and Min of two numbers\n",
      "template <class Numeric>\n",
      "Numeric Max(const Numeric& x, const Numeric& y)\n",
      "{\n",
      "\tif (x > y)\n",
      "\t\treturn x;\n",
      "\n",
      "\treturn y;\n",
      "}\n",
      "\n",
      "template <class Numeric>\n",
      "Numeric Min(const Numeric& x, const Numeric& y)\n",
      "{\n",
      "\tif (x < y)\n",
      "\t\treturn x;\n",
      "\n",
      "\treturn y;\n",
      "}\n",
      "\n",
      "// Max and Min of three numbers\n",
      "template <class Numeric>\n",
      "Numeric Max(const Numeric& x, const Numeric& y, const Numeric& z)\n",
      "{\n",
      "\treturn Max<Numeric>(Max<Numeric>(x,y), z);\n",
      "}\n",
      "\n",
      "template <class Numeric>\n",
      "Numeric Min(const Numeric& x, const Numeric& y, const Numeric& z)\n",
      "{\n",
      "\treturn Min<Numeric>(Min<Numeric>(x,y), z);\n",
      "}\n",
      "\n",
      "#endif\n"
     ]
    }
   ],
   "source": [
    "!cat GenericInequalities.cpp"
   ]
  },
  {
   "cell_type": "code",
   "execution_count": 31,
   "metadata": {},
   "outputs": [
    {
     "name": "stdout",
     "output_type": "stream",
     "text": [
      "// TestGenericInequalities.cpp\n",
      "//\n",
      "// Main program (Console-based) to test Max and \n",
      "// Min functions.\n",
      "//\n",
      "// (C) Datasim Education BV 2006\n",
      "//\n",
      "\n",
      "#include <iostream>\t\t// Console input and output\n",
      "\n",
      "#include \"GenericInequalities.hpp\" // Needed because it is templated\n",
      "int main()\n",
      "{\n",
      "\t// Prompt the user for input. Console output (cout)\n",
      "\t// and input (cin)\n",
      "\tint d1, d2;\n",
      "\tstd::cout << \"Give the first number: \";\n",
      "\tstd::cin >> d1;\n",
      "\tstd::cout << \"Give the second number: \";\n",
      "\tstd::cin >> d2;\n",
      "\n",
      "\tchar c;\t// Character type\n",
      "\tstd::cout << \"Which function a) Max() or b) Min()? \";\n",
      "\tstd::cin >> c;\n",
      "\tif (c == 'a')\n",
      "\t{\n",
      "\t\tstd::cout << \"Max value is: \" << Max<int>(d1, d2) << std::endl;\n",
      "\t}\n",
      "\telse\n",
      "\t{\n",
      "\t\tstd::cout << \"Min value is: \" << Min<int>(d1, d2) << std::endl;\n",
      "\t}\n",
      "\n",
      "\tlong dA = 12334; long dB = 2; long dC = -3;\n",
      "\tstd::cout << \"\\n\\nMax and min of three numbers: \" << std::endl;\n",
      "\tstd::cout << \"Max value is: \" << Max<long>(dA, dB, dC) << std::endl;\n",
      "\tstd::cout << \"Min value is: \" << Min<long>(dA, dB, dC) << std::endl;\n",
      "\n",
      "\treturn 0;\n",
      "}\n"
     ]
    }
   ],
   "source": [
    "!cat TestGenericInequalities.cpp"
   ]
  },
  {
   "cell_type": "code",
   "execution_count": 32,
   "metadata": {},
   "outputs": [],
   "source": [
    "#include \"GenericInequalities.cpp\""
   ]
  },
  {
   "cell_type": "code",
   "execution_count": 33,
   "metadata": {},
   "outputs": [
    {
     "name": "stderr",
     "output_type": "stream",
     "text": [
      "\u001b[1minput_line_33:2:6: \u001b[0m\u001b[0;1;31merror: \u001b[0m\u001b[1mredefinition of 'd1' with a different type: 'int' vs 'double'\u001b[0m\n",
      " int d1, d2;\n",
      "\u001b[0;1;32m     ^\n",
      "\u001b[0m\u001b[1minput_line_12:2:9: \u001b[0m\u001b[0;1;30mnote: \u001b[0mprevious definition is here\u001b[0m\n",
      " double d1, d2;\n",
      "\u001b[0;1;32m        ^\n",
      "\u001b[0m"
     ]
    },
    {
     "ename": "Interpreter Error",
     "evalue": "",
     "output_type": "error",
     "traceback": [
      "Interpreter Error: "
     ]
    }
   ],
   "source": [
    "int d1, d2;"
   ]
  },
  {
   "cell_type": "code",
   "execution_count": null,
   "metadata": {},
   "outputs": [],
   "source": [
    "std::cout << \"Give the first number: \";\n",
    "std::cin >> d1;"
   ]
  },
  {
   "cell_type": "code",
   "execution_count": null,
   "metadata": {},
   "outputs": [],
   "source": [
    "std::cout << \"Give the second number: \";\n",
    "std::cin >> d2;"
   ]
  },
  {
   "cell_type": "code",
   "execution_count": null,
   "metadata": {},
   "outputs": [],
   "source": [
    "char c;\t// Character type\n",
    "std::cout << \"Which function a) Max() or b) Min()? \";"
   ]
  },
  {
   "cell_type": "code",
   "execution_count": 34,
   "metadata": {},
   "outputs": [],
   "source": [
    "long dA = 12334; long dB = 2; long dC = -3;"
   ]
  },
  {
   "cell_type": "code",
   "execution_count": 35,
   "metadata": {},
   "outputs": [
    {
     "name": "stdout",
     "output_type": "stream",
     "text": [
      "\n",
      "\n",
      "Max and min of three numbers: \n",
      "Max value is: 12334\n",
      "Min value is: -3\n"
     ]
    }
   ],
   "source": [
    "std::cout << \"\\n\\nMax and min of three numbers: \" << std::endl;\n",
    "std::cout << \"Max value is: \" << Max<long>(dA, dB, dC) << std::endl;\n",
    "std::cout << \"Min value is: \" << Min<long>(dA, dB, dC) << std::endl;"
   ]
  }
 ],
 "metadata": {
  "kernelspec": {
   "display_name": "C++11",
   "language": "C++11",
   "name": "xcpp11"
  },
  "language_info": {
   "codemirror_mode": "text/x-c++src",
   "file_extension": ".cpp",
   "mimetype": "text/x-c++src",
   "name": "c++",
   "version": "-std=c++11"
  }
 },
 "nbformat": 4,
 "nbformat_minor": 2
}
