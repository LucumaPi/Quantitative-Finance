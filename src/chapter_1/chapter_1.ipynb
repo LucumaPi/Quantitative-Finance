{
 "cells": [
  {
   "cell_type": "markdown",
   "metadata": {},
   "source": [
    "# Introduction to C++ and Quantitative Finance"
   ]
  },
  {
   "cell_type": "code",
   "execution_count": 3,
   "metadata": {},
   "outputs": [],
   "source": [
    "#include <iostream>\n",
    "#include <cmath>"
   ]
  },
  {
   "cell_type": "markdown",
   "metadata": {},
   "source": [
    "```cpp\n",
    "double CallPrice()\n",
    "{\n",
    "    double tmp = sig * std::sqrt(T);\n",
    "    double d1 = std::log(U/K) + (b + (sig*sig)*0.5)*T)/tmp;\n",
    "    double d2 = d1 - tmp;\n",
    "    \n",
    "    return (U * std::exp((b - r)*T)* N(d1)) - (K*std::exp(-r*T)*N(d2));\n",
    "}\n",
    "```"
   ]
  },
  {
   "cell_type": "markdown",
   "metadata": {},
   "source": [
    "```cpp\n",
    "double PutPrice()\n",
    "{\n",
    "    double tmp = sig * std::sqrt(T);\n",
    "    \n",
    "    double d1 = (std::log(U/K) + (b + (sig*sig)*0.5)*T)/tmp;\n",
    "    double d2 = d1 - tmp;\n",
    "    \n",
    "    return (K * std::exp(-r*T) * N(-d2)) - (U * std::exp((b-r) * T)* N(-d1));\n",
    "}\n",
    "```"
   ]
  },
  {
   "cell_type": "markdown",
   "metadata": {},
   "source": [
    "```cpp\n",
    "template <class Numeric> Numeric Max(const Numeric& x, const Numeric& y);\n",
    "```"
   ]
  },
  {
   "cell_type": "markdown",
   "metadata": {},
   "source": [
    "```cpp\n",
    "template <class Numeric>\n",
    "Numeric Max(const Numeric& x, const Numeric& y)\n",
    "{\n",
    "    if (x > y)\n",
    "        return x;\n",
    "    return y;\n",
    "}\n",
    "```"
   ]
  },
  {
   "cell_type": "markdown",
   "metadata": {},
   "source": [
    "```cpp\n",
    "long dA = 1234; long dB = 2;\n",
    "std::cout << \"\\n\\nMax and min of two numbers: \" << std::endl;\n",
    "std::cout << \"Max value is:  \" << Max<long>(dA, dB) << std::endl;\n",
    "```"
   ]
  }
 ],
 "metadata": {
  "kernelspec": {
   "display_name": "C++11",
   "language": "C++11",
   "name": "xcpp11"
  },
  "language_info": {
   "codemirror_mode": "text/x-c++src",
   "file_extension": ".cpp",
   "mimetype": "text/x-c++src",
   "name": "c++",
   "version": "-std=c++11"
  }
 },
 "nbformat": 4,
 "nbformat_minor": 2
}
