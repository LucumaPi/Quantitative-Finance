{
 "cells": [
  {
   "cell_type": "code",
   "execution_count": 1,
   "metadata": {},
   "outputs": [],
   "source": [
    "#include <iostream>"
   ]
  },
  {
   "cell_type": "code",
   "execution_count": 2,
   "metadata": {},
   "outputs": [
    {
     "name": "stdout",
     "output_type": "stream",
     "text": [
      "Hello world!\n"
     ]
    }
   ],
   "source": [
    "std::cout << \"Hello world!\" << std::endl;"
   ]
  },
  {
   "cell_type": "code",
   "execution_count": null,
   "metadata": {},
   "outputs": [],
   "source": [
    "#include <climits>\n",
    "#include <unistd.h>"
   ]
  },
  {
   "cell_type": "code",
   "execution_count": 3,
   "metadata": {},
   "outputs": [
    {
     "name": "stderr",
     "output_type": "stream",
     "text": [
      "In file included from input_line_9:1:\n",
      "\u001b[1m./includeLibraries.h:1:8: \u001b[0m\u001b[0;1;31merror: \u001b[0m\u001b[1mexpected template\u001b[0m\n",
      "export CFLAGS=\"$CFLAGS -D__GLIBC_USE\\(...\\)=0\"\n",
      "\u001b[0;1;32m       ^\n",
      "\u001b[0m\u001b[1m./includeLibraries.h:1:8: \u001b[0m\u001b[0;1;31merror: \u001b[0m\u001b[1mC++ requires a type specifier for all declarations\u001b[0m\n",
      "\u001b[1m./includeLibraries.h:1:42: \u001b[0m\u001b[0;1;35mwarning: \u001b[0m\u001b[1munknown escape sequence '\\)' [-Wunknown-escape-sequence]\u001b[0m\n",
      "export CFLAGS=\"$CFLAGS -D__GLIBC_USE\\(...\\)=0\"\n",
      "\u001b[0;1;32m                                         ^~\n",
      "\u001b[0m\u001b[1m./includeLibraries.h:1:47: \u001b[0m\u001b[0;1;31merror: \u001b[0m\u001b[1mexpected ';' after top level declarator\u001b[0m\n",
      "export CFLAGS=\"$CFLAGS -D__GLIBC_USE\\(...\\)=0\"\n",
      "\u001b[0;1;32m                                              ^\n",
      "\u001b[0m\u001b[0;32m                                              ;\n",
      "\u001b[0m"
     ]
    },
    {
     "ename": "Interpreter Error",
     "evalue": "",
     "output_type": "error",
     "traceback": [
      "Interpreter Error: "
     ]
    }
   ],
   "source": [
    "#include \"includeLibraries.h\""
   ]
  },
  {
   "cell_type": "code",
   "execution_count": null,
   "metadata": {},
   "outputs": [],
   "source": [
    "#include <boost/chrono.hpp>"
   ]
  }
 ],
 "metadata": {
  "kernelspec": {
   "display_name": "C++11",
   "language": "C++11",
   "name": "xcpp11"
  },
  "language_info": {
   "codemirror_mode": "text/x-c++src",
   "file_extension": ".cpp",
   "mimetype": "text/x-c++src",
   "name": "c++",
   "version": "-std=c++11"
  }
 },
 "nbformat": 4,
 "nbformat_minor": 2
}
